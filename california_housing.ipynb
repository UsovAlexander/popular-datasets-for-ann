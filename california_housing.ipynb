{
 "cells": [
  {
   "cell_type": "code",
   "execution_count": 1,
   "id": "08f6e883-f40d-4eb0-9e8f-38a11eabd647",
   "metadata": {},
   "outputs": [],
   "source": [
    "import pandas as pd\n",
    "import numpy as np\n",
    "import matplotlib.pyplot as plt\n",
    "import seaborn as sns\n",
    "from sklearn.datasets import fetch_california_housing\n",
    "from sklearn.preprocessing import StandardScaler\n",
    "from sklearn.model_selection import train_test_split, GridSearchCV, RandomizedSearchCV\n",
    "from tensorflow import keras\n",
    "import tensorflow as tf\n",
    "from scikeras.wrappers import KerasClassifier, KerasRegressor"
   ]
  },
  {
   "cell_type": "code",
   "execution_count": 2,
   "id": "c82b3b0b-9450-4a0d-9101-a098d7a654ca",
   "metadata": {},
   "outputs": [],
   "source": [
    "housing = fetch_california_housing()"
   ]
  },
  {
   "cell_type": "code",
   "execution_count": 3,
   "id": "4364c501-878c-491a-b0ef-8b052a3eab52",
   "metadata": {},
   "outputs": [],
   "source": [
    "X_train_full, X_test, y_train_full,  y_test = train_test_split(housing.data, housing.target, test_size=0.2)"
   ]
  },
  {
   "cell_type": "code",
   "execution_count": 4,
   "id": "9dd698ce-4cdd-444f-acca-f20331b02efc",
   "metadata": {},
   "outputs": [],
   "source": [
    "X_train, X_val, y_train,  y_val = train_test_split(X_train_full, y_train_full, test_size=0.2)"
   ]
  },
  {
   "cell_type": "code",
   "execution_count": 5,
   "id": "12f295d4-fb35-4115-aa81-c61136349387",
   "metadata": {},
   "outputs": [],
   "source": [
    "scaler = StandardScaler()"
   ]
  },
  {
   "cell_type": "code",
   "execution_count": 6,
   "id": "594e8393-eaf1-4e99-846f-7c094be89f14",
   "metadata": {},
   "outputs": [],
   "source": [
    "X_train = scaler.fit_transform(X_train)\n",
    "X_val = scaler.transform(X_val)\n",
    "X_test = scaler.transform(X_test)"
   ]
  },
  {
   "cell_type": "code",
   "execution_count": 7,
   "id": "0d3a4f8e-d4d9-4107-b816-d6a7a5c68f2f",
   "metadata": {},
   "outputs": [
    {
     "data": {
      "text/plain": [
       "((13209, 8), (4128, 8))"
      ]
     },
     "execution_count": 7,
     "metadata": {},
     "output_type": "execute_result"
    }
   ],
   "source": [
    "X_train.shape, X_test.shape"
   ]
  },
  {
   "cell_type": "code",
   "execution_count": 8,
   "id": "fb5455a2-51f0-400d-9c73-b2b8ae3cbf5b",
   "metadata": {},
   "outputs": [],
   "source": [
    "model = keras.models.Sequential([\n",
    "    keras.layers.Dense(30, activation='relu',\n",
    "                      input_shape=X_train.shape[1:]),\n",
    "    keras.layers.Dense(1)\n",
    "])\n",
    "\n",
    "model.compile(loss='mean_squared_error', optimizer='sgd')"
   ]
  },
  {
   "cell_type": "code",
   "execution_count": 9,
   "id": "48397c11-616b-421a-8907-2ad7fa866831",
   "metadata": {
    "scrolled": true
   },
   "outputs": [
    {
     "name": "stdout",
     "output_type": "stream",
     "text": [
      "Epoch 1/20\n",
      "413/413 [==============================] - 0s 517us/step - loss: 0.8171 - val_loss: 0.5915\n",
      "Epoch 2/20\n",
      "413/413 [==============================] - 0s 399us/step - loss: 0.8946 - val_loss: 0.4762\n",
      "Epoch 3/20\n",
      "413/413 [==============================] - 0s 398us/step - loss: 0.4406 - val_loss: 0.4334\n",
      "Epoch 4/20\n",
      "413/413 [==============================] - 0s 394us/step - loss: 0.4197 - val_loss: 0.4137\n",
      "Epoch 5/20\n",
      "413/413 [==============================] - 0s 397us/step - loss: 0.4089 - val_loss: 0.4061\n",
      "Epoch 6/20\n",
      "413/413 [==============================] - 0s 438us/step - loss: 0.4006 - val_loss: 0.4031\n",
      "Epoch 7/20\n",
      "413/413 [==============================] - 0s 394us/step - loss: 0.3961 - val_loss: 0.3927\n",
      "Epoch 8/20\n",
      "413/413 [==============================] - 0s 393us/step - loss: 0.3913 - val_loss: 0.3920\n",
      "Epoch 9/20\n",
      "413/413 [==============================] - 0s 393us/step - loss: 0.3879 - val_loss: 0.4017\n",
      "Epoch 10/20\n",
      "413/413 [==============================] - 0s 392us/step - loss: 0.3838 - val_loss: 0.3830\n",
      "Epoch 11/20\n",
      "413/413 [==============================] - 0s 390us/step - loss: 0.3803 - val_loss: 0.3872\n",
      "Epoch 12/20\n",
      "413/413 [==============================] - 0s 392us/step - loss: 0.3786 - val_loss: 0.3734\n",
      "Epoch 13/20\n",
      "413/413 [==============================] - 0s 400us/step - loss: 0.3784 - val_loss: 0.3795\n",
      "Epoch 14/20\n",
      "413/413 [==============================] - 0s 395us/step - loss: 0.3743 - val_loss: 0.3682\n",
      "Epoch 15/20\n",
      "413/413 [==============================] - 0s 393us/step - loss: 0.3701 - val_loss: 0.3671\n",
      "Epoch 16/20\n",
      "413/413 [==============================] - 0s 399us/step - loss: 0.3674 - val_loss: 0.3659\n",
      "Epoch 17/20\n",
      "413/413 [==============================] - 0s 391us/step - loss: 0.3727 - val_loss: 0.3805\n",
      "Epoch 18/20\n",
      "413/413 [==============================] - 0s 389us/step - loss: 0.3660 - val_loss: 0.3795\n",
      "Epoch 19/20\n",
      "413/413 [==============================] - 0s 387us/step - loss: 0.3660 - val_loss: 0.3614\n",
      "Epoch 20/20\n",
      "413/413 [==============================] - 0s 390us/step - loss: 0.3632 - val_loss: 0.4417\n"
     ]
    }
   ],
   "source": [
    "history = model.fit(X_train, y_train, epochs=20,\n",
    "                   validation_data=(X_val, y_val))"
   ]
  },
  {
   "cell_type": "code",
   "execution_count": 10,
   "id": "7ec89a31-a365-4981-a901-e3e921d98d94",
   "metadata": {},
   "outputs": [
    {
     "data": {
      "image/png": "[encoded data removed]",
      "text/plain": [
       "<Figure size 800x500 with 1 Axes>"
      ]
     },
     "metadata": {},
     "output_type": "display_data"
    }
   ],
   "source": [
    "pd.DataFrame(history.history).plot(figsize=(8,5))\n",
    "plt.grid();"
   ]
  },
  {
   "cell_type": "code",
   "execution_count": 11,
   "id": "50d0e8f6-f592-467e-b8a9-acbf26ff4b2c",
   "metadata": {},
   "outputs": [
    {
     "name": "stdout",
     "output_type": "stream",
     "text": [
      "129/129 [==============================] - 0s 288us/step - loss: 0.3403\n"
     ]
    },
    {
     "data": {
      "text/plain": [
       "0.3402526080608368"
      ]
     },
     "execution_count": 11,
     "metadata": {},
     "output_type": "execute_result"
    }
   ],
   "source": [
    "model.evaluate(X_test, y_test)"
   ]
  },
  {
   "cell_type": "code",
   "execution_count": 12,
   "id": "31b4d271-d048-493f-883c-63d335b5ce3e",
   "metadata": {},
   "outputs": [
    {
     "name": "stdout",
     "output_type": "stream",
     "text": [
      "129/129 [==============================] - 0s 276us/step\n"
     ]
    }
   ],
   "source": [
    "y_pred = model.predict(X_test)"
   ]
  },
  {
   "cell_type": "code",
   "execution_count": 13,
   "id": "e70f38a1-c6dc-41c8-a6f3-f030b354406e",
   "metadata": {},
   "outputs": [
    {
     "data": {
      "text/plain": [
       "array([[1.6601471],\n",
       "       [1.369854 ],\n",
       "       [1.8709762],\n",
       "       ...,\n",
       "       [3.8109612],\n",
       "       [3.3668013],\n",
       "       [1.6656563]], dtype=float32)"
      ]
     },
     "execution_count": 13,
     "metadata": {},
     "output_type": "execute_result"
    }
   ],
   "source": [
    "y_pred"
   ]
  },
  {
   "cell_type": "markdown",
   "id": "7acf4fb4-289a-4ff0-8899-01fa8505ecf6",
   "metadata": {},
   "source": [
    "## GridSearchCV"
   ]
  },
  {
   "cell_type": "code",
   "execution_count": 14,
   "id": "d8de51a6-df21-4967-b4f0-2445945a9d78",
   "metadata": {},
   "outputs": [],
   "source": [
    "def build_model(n_hidden, n_neurons, input_shape=[8]):\n",
    "    model = keras.models.Sequential()\n",
    "    model.add(keras.layers.Input(shape=input_shape))\n",
    "    for layer in range(n_hidden):\n",
    "        model.add(keras.layers.Dense(n_neurons, activation='relu'))\n",
    "    model.add(keras.layers.Dense(1))\n",
    "    return model"
   ]
  },
  {
   "cell_type": "code",
   "execution_count": 15,
   "id": "18aff71c-ba0e-4938-9330-829bd44707d2",
   "metadata": {},
   "outputs": [],
   "source": [
    "keras_reg = KerasRegressor(build_model,\n",
    "                           loss=\"mse\",\n",
    "                           metrics=[KerasRegressor.r_squared],\n",
    "                           optimizer=\"adam\",\n",
    "                           optimizer__learning_rate=0.1,\n",
    "                           model__n_hidden=1,\n",
    "                           model__n_neurons=30)"
   ]
  },
  {
   "cell_type": "code",
   "execution_count": 16,
   "id": "45e9face-0e86-40ef-ac5c-5f2cfe284c15",
   "metadata": {
    "scrolled": true
   },
   "outputs": [
    {
     "name": "stdout",
     "output_type": "stream",
     "text": [
      "Epoch 1/20\n",
      "413/413 [==============================] - 0s 354us/step - loss: 4.1224 - r_squared: -2.3055\n",
      "Epoch 2/20\n",
      "413/413 [==============================] - 0s 344us/step - loss: 274.8712 - r_squared: -161.5248\n",
      "Epoch 3/20\n",
      "413/413 [==============================] - 0s 348us/step - loss: 645.2324 - r_squared: -637.2365\n",
      "Epoch 4/20\n",
      "413/413 [==============================] - 0s 382us/step - loss: 141.0981 - r_squared: -108.0319\n",
      "Epoch 5/20\n",
      "413/413 [==============================] - 0s 342us/step - loss: 15.4515 - r_squared: -13.0112\n",
      "Epoch 6/20\n",
      "413/413 [==============================] - 0s 343us/step - loss: 1.4728 - r_squared: -0.3689\n",
      "Epoch 7/20\n",
      "413/413 [==============================] - 0s 343us/step - loss: 1.9832 - r_squared: -0.6123\n",
      "Epoch 8/20\n",
      "413/413 [==============================] - 0s 342us/step - loss: 42.8053 - r_squared: -31.9599\n",
      "Epoch 9/20\n",
      "413/413 [==============================] - 0s 340us/step - loss: 99.1164 - r_squared: -73.2541\n",
      "Epoch 10/20\n",
      "413/413 [==============================] - 0s 347us/step - loss: 3.3442 - r_squared: -1.6422\n",
      "Epoch 11/20\n",
      "413/413 [==============================] - 0s 342us/step - loss: 9.3898 - r_squared: -6.8809\n",
      "Epoch 12/20\n",
      "413/413 [==============================] - 0s 339us/step - loss: 46.2118 - r_squared: -30.0241\n",
      "Epoch 13/20\n",
      "413/413 [==============================] - 0s 340us/step - loss: 0.4810 - r_squared: 0.6004\n",
      "Epoch 14/20\n",
      "413/413 [==============================] - 0s 344us/step - loss: 0.5912 - r_squared: 0.5531\n",
      "Epoch 15/20\n",
      "413/413 [==============================] - 0s 359us/step - loss: 1.5164 - r_squared: -0.3531\n",
      "Epoch 16/20\n",
      "413/413 [==============================] - 0s 344us/step - loss: 103.1255 - r_squared: -74.7727\n",
      "Epoch 17/20\n",
      "413/413 [==============================] - 0s 348us/step - loss: 42.9303 - r_squared: -28.7544\n",
      "Epoch 18/20\n",
      "413/413 [==============================] - 0s 343us/step - loss: 0.6416 - r_squared: 0.5057\n",
      "Epoch 19/20\n",
      "413/413 [==============================] - 0s 347us/step - loss: 0.4964 - r_squared: 0.5988\n",
      "Epoch 20/20\n",
      "413/413 [==============================] - 0s 343us/step - loss: 0.4915 - r_squared: 0.6032\n"
     ]
    },
    {
     "data": {
      "text/html": [
       "<style>#sk-container-id-1 {color: black;}#sk-container-id-1 pre{padding: 0;}#sk-container-id-1 div.sk-toggleable {background-color: white;}#sk-container-id-1 label.sk-toggleable__label {cursor: pointer;display: block;width: 100%;margin-bottom: 0;padding: 0.3em;box-sizing: border-box;text-align: center;}#sk-container-id-1 label.sk-toggleable__label-arrow:before {content: \"▸\";float: left;margin-right: 0.25em;color: #696969;}#sk-container-id-1 label.sk-toggleable__label-arrow:hover:before {color: black;}#sk-container-id-1 div.sk-estimator:hover label.sk-toggleable__label-arrow:before {color: black;}#sk-container-id-1 div.sk-toggleable__content {max-height: 0;max-width: 0;overflow: hidden;text-align: left;background-color: #f0f8ff;}#sk-container-id-1 div.sk-toggleable__content pre {margin: 0.2em;color: black;border-radius: 0.25em;background-color: #f0f8ff;}#sk-container-id-1 input.sk-toggleable__control:checked~div.sk-toggleable__content {max-height: 200px;max-width: 100%;overflow: auto;}#sk-container-id-1 input.sk-toggleable__control:checked~label.sk-toggleable__label-arrow:before {content: \"▾\";}#sk-container-id-1 div.sk-estimator input.sk-toggleable__control:checked~label.sk-toggleable__label {background-color: #d4ebff;}#sk-container-id-1 div.sk-label input.sk-toggleable__control:checked~label.sk-toggleable__label {background-color: #d4ebff;}#sk-container-id-1 input.sk-hidden--visually {border: 0;clip: rect(1px 1px 1px 1px);clip: rect(1px, 1px, 1px, 1px);height: 1px;margin: -1px;overflow: hidden;padding: 0;position: absolute;width: 1px;}#sk-container-id-1 div.sk-estimator {font-family: monospace;background-color: #f0f8ff;border: 1px dotted black;border-radius: 0.25em;box-sizing: border-box;margin-bottom: 0.5em;}#sk-container-id-1 div.sk-estimator:hover {background-color: #d4ebff;}#sk-container-id-1 div.sk-parallel-item::after {content: \"\";width: 100%;border-bottom: 1px solid gray;flex-grow: 1;}#sk-container-id-1 div.sk-label:hover label.sk-toggleable__label {background-color: #d4ebff;}#sk-container-id-1 div.sk-serial::before {content: \"\";position: absolute;border-left: 1px solid gray;box-sizing: border-box;top: 0;bottom: 0;left: 50%;z-index: 0;}#sk-container-id-1 div.sk-serial {display: flex;flex-direction: column;align-items: center;background-color: white;padding-right: 0.2em;padding-left: 0.2em;position: relative;}#sk-container-id-1 div.sk-item {position: relative;z-index: 1;}#sk-container-id-1 div.sk-parallel {display: flex;align-items: stretch;justify-content: center;background-color: white;position: relative;}#sk-container-id-1 div.sk-item::before, #sk-container-id-1 div.sk-parallel-item::before {content: \"\";position: absolute;border-left: 1px solid gray;box-sizing: border-box;top: 0;bottom: 0;left: 50%;z-index: -1;}#sk-container-id-1 div.sk-parallel-item {display: flex;flex-direction: column;z-index: 1;position: relative;background-color: white;}#sk-container-id-1 div.sk-parallel-item:first-child::after {align-self: flex-end;width: 50%;}#sk-container-id-1 div.sk-parallel-item:last-child::after {align-self: flex-start;width: 50%;}#sk-container-id-1 div.sk-parallel-item:only-child::after {width: 0;}#sk-container-id-1 div.sk-dashed-wrapped {border: 1px dashed gray;margin: 0 0.4em 0.5em 0.4em;box-sizing: border-box;padding-bottom: 0.4em;background-color: white;}#sk-container-id-1 div.sk-label label {font-family: monospace;font-weight: bold;display: inline-block;line-height: 1.2em;}#sk-container-id-1 div.sk-label-container {text-align: center;}#sk-container-id-1 div.sk-container {/* jupyter's `normalize.less` sets `[hidden] { display: none; }` but bootstrap.min.css set `[hidden] { display: none !important; }` so we also need the `!important` here to be able to override the default hidden behavior on the sphinx rendered scikit-learn.org. See: https://github.com/scikit-learn/scikit-learn/issues/21755 */display: inline-block !important;position: relative;}#sk-container-id-1 div.sk-text-repr-fallback {display: none;}</style><div id=\"sk-container-id-1\" class=\"sk-top-container\"><div class=\"sk-text-repr-fallback\"><pre>KerasRegressor(\n",
       "\tmodel=&lt;function build_model at 0x14bacd700&gt;\n",
       "\tbuild_fn=None\n",
       "\twarm_start=False\n",
       "\trandom_state=None\n",
       "\toptimizer=adam\n",
       "\tloss=mse\n",
       "\tmetrics=[&lt;function KerasRegressor.r_squared at 0x14babaaf0&gt;]\n",
       "\tbatch_size=None\n",
       "\tvalidation_batch_size=None\n",
       "\tverbose=1\n",
       "\tcallbacks=None\n",
       "\tvalidation_split=0.0\n",
       "\tshuffle=True\n",
       "\trun_eagerly=False\n",
       "\tepochs=1\n",
       "\toptimizer__learning_rate=0.1\n",
       "\tmodel__n_hidden=1\n",
       "\tmodel__n_neurons=30\n",
       ")</pre><b>In a Jupyter environment, please rerun this cell to show the HTML representation or trust the notebook. <br />On GitHub, the HTML representation is unable to render, please try loading this page with nbviewer.org.</b></div><div class=\"sk-container\" hidden><div class=\"sk-item\"><div class=\"sk-estimator sk-toggleable\"><input class=\"sk-toggleable__control sk-hidden--visually\" id=\"sk-estimator-id-1\" type=\"checkbox\" checked><label for=\"sk-estimator-id-1\" class=\"sk-toggleable__label sk-toggleable__label-arrow\">KerasRegressor</label><div class=\"sk-toggleable__content\"><pre>KerasRegressor(\n",
       "\tmodel=&lt;function build_model at 0x14bacd700&gt;\n",
       "\tbuild_fn=None\n",
       "\twarm_start=False\n",
       "\trandom_state=None\n",
       "\toptimizer=adam\n",
       "\tloss=mse\n",
       "\tmetrics=[&lt;function KerasRegressor.r_squared at 0x14babaaf0&gt;]\n",
       "\tbatch_size=None\n",
       "\tvalidation_batch_size=None\n",
       "\tverbose=1\n",
       "\tcallbacks=None\n",
       "\tvalidation_split=0.0\n",
       "\tshuffle=True\n",
       "\trun_eagerly=False\n",
       "\tepochs=1\n",
       "\toptimizer__learning_rate=0.1\n",
       "\tmodel__n_hidden=1\n",
       "\tmodel__n_neurons=30\n",
       ")</pre></div></div></div></div></div>"
      ],
      "text/plain": [
       "KerasRegressor(\n",
       "\tmodel=<function build_model at 0x14bacd700>\n",
       "\tbuild_fn=None\n",
       "\twarm_start=False\n",
       "\trandom_state=None\n",
       "\toptimizer=adam\n",
       "\tloss=mse\n",
       "\tmetrics=[<function KerasRegressor.r_squared at 0x14babaaf0>]\n",
       "\tbatch_size=None\n",
       "\tvalidation_batch_size=None\n",
       "\tverbose=1\n",
       "\tcallbacks=None\n",
       "\tvalidation_split=0.0\n",
       "\tshuffle=True\n",
       "\trun_eagerly=False\n",
       "\tepochs=1\n",
       "\toptimizer__learning_rate=0.1\n",
       "\tmodel__n_hidden=1\n",
       "\tmodel__n_neurons=30\n",
       ")"
      ]
     },
     "execution_count": 16,
     "metadata": {},
     "output_type": "execute_result"
    }
   ],
   "source": [
    "keras_reg.fit(X_train, y_train, epochs=20,\n",
    "             callbacks=[keras.callbacks.EarlyStopping(patience=10)])"
   ]
  },
  {
   "cell_type": "code",
   "execution_count": 17,
   "id": "f2bd9016-5876-4480-89aa-e139a2efa8cc",
   "metadata": {
    "scrolled": true
   },
   "outputs": [
    {
     "name": "stdout",
     "output_type": "stream",
     "text": [
      "129/129 [==============================] - 0s 287us/step\n"
     ]
    },
    {
     "data": {
      "text/plain": [
       "0.6183664841459809"
      ]
     },
     "execution_count": 17,
     "metadata": {},
     "output_type": "execute_result"
    }
   ],
   "source": [
    "keras_reg.score(X_test, y_test)"
   ]
  },
  {
   "cell_type": "code",
   "execution_count": 18,
   "id": "093e676b-bc93-4880-9adc-420b4d970070",
   "metadata": {},
   "outputs": [],
   "source": [
    "params = {\n",
    "    'model__n_hidden': [1, 2, 3],\n",
    "    'model__n_neurons': np.arange(30, 100),\n",
    "    'optimizer__learning_rate': [3e-1, 2e-1, 1e-1]\n",
    "}"
   ]
  },
  {
   "cell_type": "code",
   "execution_count": 19,
   "id": "1f4dd465-b971-4916-9a0b-5669599b936b",
   "metadata": {},
   "outputs": [],
   "source": [
    "grid = GridSearchCV(keras_reg, params, cv=3)"
   ]
  },
  {
   "cell_type": "code",
   "execution_count": null,
   "id": "497fdb8b-a317-4245-96de-336a90f1324b",
   "metadata": {
    "scrolled": true
   },
   "outputs": [
    {
     "name": "stdout",
     "output_type": "stream",
     "text": [
      "Epoch 1/20\n",
      "276/276 [==============================] - 0s 643us/step - loss: 307.3984 - r_squared: -263.4290 - val_loss: 12.9315 - val_r_squared: -9.1967\n",
      "Epoch 2/20\n",
      "276/276 [==============================] - 0s 543us/step - loss: 2.3827 - r_squared: -0.9575 - val_loss: 1.2869 - val_r_squared: -0.0022\n",
      "Epoch 3/20\n",
      "276/276 [==============================] - 0s 479us/step - loss: 0.9074 - r_squared: 0.3081 - val_loss: 0.6120 - val_r_squared: 0.5250\n",
      "Epoch 4/20\n",
      "276/276 [==============================] - 0s 484us/step - loss: 0.5932 - r_squared: 0.5401 - val_loss: 0.6027 - val_r_squared: 0.5365\n",
      "Epoch 5/20\n",
      "276/276 [==============================] - 0s 484us/step - loss: 0.5753 - r_squared: 0.5542 - val_loss: 0.4886 - val_r_squared: 0.6294\n",
      "Epoch 6/20\n",
      "276/276 [==============================] - 0s 479us/step - loss: 0.6650 - r_squared: 0.4780 - val_loss: 0.7279 - val_r_squared: 0.4357\n",
      "Epoch 7/20\n",
      "276/276 [==============================] - 0s 476us/step - loss: 0.5886 - r_squared: 0.5378 - val_loss: 0.9060 - val_r_squared: 0.2948\n",
      "Epoch 8/20\n",
      "276/276 [==============================] - 0s 477us/step - loss: 0.5900 - r_squared: 0.5403 - val_loss: 0.7086 - val_r_squared: 0.4673\n",
      "Epoch 9/20\n",
      "276/276 [==============================] - 0s 479us/step - loss: 0.5384 - r_squared: 0.5777 - val_loss: 0.4541 - val_r_squared: 0.6507\n",
      "Epoch 10/20\n",
      "276/276 [==============================] - 0s 494us/step - loss: 0.5860 - r_squared: 0.5460 - val_loss: 0.5255 - val_r_squared: 0.6055\n",
      "Epoch 11/20\n",
      "276/276 [==============================] - 0s 482us/step - loss: 0.5645 - r_squared: 0.5649 - val_loss: 0.5067 - val_r_squared: 0.6197\n",
      "Epoch 12/20\n",
      "276/276 [==============================] - 0s 475us/step - loss: 0.6634 - r_squared: 0.4746 - val_loss: 0.5927 - val_r_squared: 0.5379\n",
      "Epoch 13/20\n",
      "276/276 [==============================] - 0s 476us/step - loss: 0.5888 - r_squared: 0.5391 - val_loss: 0.5639 - val_r_squared: 0.5686\n",
      "Epoch 14/20\n",
      "276/276 [==============================] - 0s 475us/step - loss: 0.5846 - r_squared: 0.5434 - val_loss: 0.5431 - val_r_squared: 0.5991\n",
      "Epoch 15/20\n",
      "276/276 [==============================] - 0s 481us/step - loss: 0.5619 - r_squared: 0.5531 - val_loss: 0.5132 - val_r_squared: 0.6170\n",
      "Epoch 16/20\n",
      "276/276 [==============================] - 0s 480us/step - loss: 1.8418 - r_squared: -0.6462 - val_loss: 1.4244 - val_r_squared: -0.0733\n",
      "Epoch 17/20\n",
      "276/276 [==============================] - 0s 476us/step - loss: 1.3668 - r_squared: -0.0581 - val_loss: 1.4151 - val_r_squared: -0.0906\n",
      "Epoch 18/20\n",
      "276/276 [==============================] - 0s 477us/step - loss: 1.3778 - r_squared: -0.0608 - val_loss: 1.3972 - val_r_squared: -0.0723\n",
      "Epoch 19/20\n",
      "276/276 [==============================] - 0s 480us/step - loss: 1.3267 - r_squared: -0.0190 - val_loss: 1.3577 - val_r_squared: -0.0205\n",
      "Epoch 20/20\n",
      "276/276 [==============================] - 0s 478us/step - loss: 1.3332 - r_squared: -0.0229 - val_loss: 1.3195 - val_r_squared: 8.5436e-04\n",
      "138/138 [==============================] - 0s 276us/step\n",
      "Epoch 1/20\n",
      "276/276 [==============================] - 0s 644us/step - loss: 1.5746 - r_squared: -0.3394 - val_loss: 3.2856 - val_r_squared: -1.2581\n",
      "Epoch 2/20\n",
      "276/276 [==============================] - 0s 547us/step - loss: 2.2089 - r_squared: -0.8591 - val_loss: 98.4210 - val_r_squared: -62.8521\n",
      "Epoch 3/20\n",
      "276/276 [==============================] - 0s 482us/step - loss: 130.2243 - r_squared: -129.0960 - val_loss: 1.4470 - val_r_squared: -0.1001\n",
      "Epoch 4/20\n",
      "276/276 [==============================] - 0s 479us/step - loss: 2.5113 - r_squared: -1.0243 - val_loss: 1.4391 - val_r_squared: -0.0847\n",
      "Epoch 5/20\n",
      "276/276 [==============================] - 0s 477us/step - loss: 9.5920 - r_squared: -5.0088 - val_loss: 1.5207 - val_r_squared: -0.1394\n",
      "Epoch 6/20\n",
      "276/276 [==============================] - 0s 480us/step - loss: 1.3042 - r_squared: -0.0398 - val_loss: 1.8628 - val_r_squared: -0.3499\n",
      "Epoch 7/20\n",
      "276/276 [==============================] - 0s 481us/step - loss: 1.2848 - r_squared: -0.0122 - val_loss: 1.6263 - val_r_squared: -0.2013\n",
      "Epoch 8/20\n",
      "276/276 [==============================] - 0s 478us/step - loss: 1.2758 - r_squared: -0.0111 - val_loss: 1.5242 - val_r_squared: -0.1335\n",
      "Epoch 9/20\n",
      "276/276 [==============================] - 0s 481us/step - loss: 1.2756 - r_squared: -0.0140 - val_loss: 1.4415 - val_r_squared: -0.0875\n",
      "Epoch 10/20\n",
      "276/276 [==============================] - 0s 486us/step - loss: 1.2744 - r_squared: -0.0139 - val_loss: 1.4355 - val_r_squared: -0.0818\n",
      "Epoch 11/20\n",
      "276/276 [==============================] - 0s 476us/step - loss: 1.2714 - r_squared: -0.0038 - val_loss: 1.4043 - val_r_squared: -0.0741\n",
      "Epoch 12/20\n",
      "276/276 [==============================] - 0s 478us/step - loss: 1.2692 - r_squared: -0.0068 - val_loss: 1.3869 - val_r_squared: -0.0472\n",
      "Epoch 13/20\n",
      "276/276 [==============================] - 0s 480us/step - loss: 1.2737 - r_squared: -0.0063 - val_loss: 1.3880 - val_r_squared: -0.0604\n",
      "Epoch 14/20\n",
      "276/276 [==============================] - 0s 477us/step - loss: 1.2876 - r_squared: -0.0153 - val_loss: 1.3536 - val_r_squared: -0.0324\n",
      "Epoch 15/20\n",
      "276/276 [==============================] - 0s 475us/step - loss: 1.2961 - r_squared: -0.0312 - val_loss: 1.3511 - val_r_squared: -0.0303\n",
      "Epoch 16/20\n",
      "276/276 [==============================] - 0s 479us/step - loss: 1.2896 - r_squared: -0.0146 - val_loss: 1.3969 - val_r_squared: -0.0674\n",
      "Epoch 17/20\n",
      "276/276 [==============================] - 0s 478us/step - loss: 1.2975 - r_squared: -0.0275 - val_loss: 1.3507 - val_r_squared: -0.0210\n",
      "Epoch 18/20\n",
      "276/276 [==============================] - 0s 480us/step - loss: 1.2989 - r_squared: -0.0187 - val_loss: 1.3976 - val_r_squared: -0.0521\n",
      "Epoch 19/20\n",
      "276/276 [==============================] - 0s 480us/step - loss: 1.2945 - r_squared: -0.0291 - val_loss: 1.3994 - val_r_squared: -0.0795\n",
      "Epoch 20/20\n",
      "276/276 [==============================] - 0s 483us/step - loss: 1.3001 - r_squared: -0.0258 - val_loss: 1.3623 - val_r_squared: -0.0330\n",
      "138/138 [==============================] - 0s 286us/step\n",
      "Epoch 1/20\n",
      "276/276 [==============================] - 0s 695us/step - loss: 1015.1868 - r_squared: -828.6983 - val_loss: 3.3027 - val_r_squared: -1.6135\n",
      "Epoch 2/20\n",
      "276/276 [==============================] - 0s 492us/step - loss: 372.7007 - r_squared: -532.6822 - val_loss: 1.6183 - val_r_squared: -0.2541\n",
      "Epoch 3/20\n",
      "276/276 [==============================] - 0s 491us/step - loss: 0.9982 - r_squared: 0.1907 - val_loss: 0.7471 - val_r_squared: 0.4209\n",
      "Epoch 4/20\n",
      "276/276 [==============================] - 0s 493us/step - loss: 7.7090 - r_squared: -6.0715 - val_loss: 1.5997 - val_r_squared: -0.2226\n",
      "Epoch 5/20\n",
      "276/276 [==============================] - 0s 478us/step - loss: 1.4709 - r_squared: -0.1566 - val_loss: 1.4576 - val_r_squared: -0.1136\n",
      "Epoch 6/20\n",
      "276/276 [==============================] - 0s 487us/step - loss: 1.3840 - r_squared: -0.0803 - val_loss: 1.3972 - val_r_squared: -0.0667\n",
      "Epoch 7/20\n",
      "276/276 [==============================] - 0s 482us/step - loss: 1.3374 - r_squared: -0.0403 - val_loss: 1.8496 - val_r_squared: -0.4277\n",
      "Epoch 8/20\n",
      "276/276 [==============================] - 0s 495us/step - loss: 1.3306 - r_squared: -0.0443 - val_loss: 1.3749 - val_r_squared: -0.0423\n",
      "Epoch 9/20\n",
      "276/276 [==============================] - 0s 488us/step - loss: 1.3187 - r_squared: -0.0324 - val_loss: 1.3832 - val_r_squared: -0.0431\n",
      "Epoch 10/20\n",
      "276/276 [==============================] - 0s 492us/step - loss: 1.3089 - r_squared: -0.0328 - val_loss: 1.3632 - val_r_squared: -0.0298\n",
      "Epoch 11/20\n",
      "276/276 [==============================] - 0s 479us/step - loss: 1.2953 - r_squared: -0.0105 - val_loss: 1.3354 - val_r_squared: -0.0179\n",
      "Epoch 12/20\n",
      "276/276 [==============================] - 0s 488us/step - loss: 1.2717 - r_squared: 0.0082 - val_loss: 1.3241 - val_r_squared: -0.0167\n",
      "Epoch 13/20\n",
      "276/276 [==============================] - 0s 476us/step - loss: 1.2595 - r_squared: 0.0106 - val_loss: 1.2989 - val_r_squared: 0.0179\n",
      "Epoch 14/20\n",
      "276/276 [==============================] - 0s 484us/step - loss: 1.2287 - r_squared: 0.0153 - val_loss: 1.2470 - val_r_squared: 0.0505\n",
      "Epoch 15/20\n",
      "276/276 [==============================] - 0s 489us/step - loss: 1.3369 - r_squared: -0.0470 - val_loss: 1.3038 - val_r_squared: 0.0125\n",
      "Epoch 16/20\n",
      "276/276 [==============================] - 0s 489us/step - loss: 1.2279 - r_squared: 0.0253 - val_loss: 1.1766 - val_r_squared: 0.1086\n",
      "Epoch 17/20\n",
      "276/276 [==============================] - 0s 491us/step - loss: 1.0749 - r_squared: 0.1536 - val_loss: 1.0469 - val_r_squared: 0.1951\n",
      "Epoch 18/20\n",
      "276/276 [==============================] - 0s 481us/step - loss: 0.9879 - r_squared: 0.2220 - val_loss: 1.0033 - val_r_squared: 0.2329\n",
      "Epoch 19/20\n",
      "276/276 [==============================] - 0s 541us/step - loss: 0.9594 - r_squared: 0.2457 - val_loss: 1.0009 - val_r_squared: 0.2399\n",
      "Epoch 20/20\n",
      "276/276 [==============================] - 0s 496us/step - loss: 0.9412 - r_squared: 0.2583 - val_loss: 0.9622 - val_r_squared: 0.2651\n",
      "138/138 [==============================] - 0s 287us/step\n",
      "Epoch 1/20\n",
      "276/276 [==============================] - 0s 645us/step - loss: 40.9783 - r_squared: -30.1146 - val_loss: 317.4600 - val_r_squared: -221.0588\n",
      "Epoch 2/20\n",
      "276/276 [==============================] - 0s 480us/step - loss: 5893.5913 - r_squared: -6658.9150 - val_loss: 2.8386 - val_r_squared: -1.1665\n",
      "Epoch 3/20\n",
      "276/276 [==============================] - 0s 480us/step - loss: 88.6270 - r_squared: -83.5673 - val_loss: 1.2297 - val_r_squared: 0.0668\n",
      "Epoch 4/20\n",
      "276/276 [==============================] - 0s 481us/step - loss: 21.1249 - r_squared: -13.4424 - val_loss: 0.8894 - val_r_squared: 0.3218\n",
      "Epoch 5/20\n",
      "276/276 [==============================] - 0s 482us/step - loss: 4.3002 - r_squared: -2.9088 - val_loss: 0.6548 - val_r_squared: 0.5022\n",
      "Epoch 6/20\n",
      "276/276 [==============================] - 0s 485us/step - loss: 1.0724 - r_squared: -0.1306 - val_loss: 0.7060 - val_r_squared: 0.4682\n",
      "Epoch 7/20\n",
      "276/276 [==============================] - 0s 479us/step - loss: 0.7055 - r_squared: 0.4494 - val_loss: 0.6354 - val_r_squared: 0.5305\n",
      "Epoch 8/20\n",
      "276/276 [==============================] - 0s 476us/step - loss: 0.6171 - r_squared: 0.5235 - val_loss: 0.6492 - val_r_squared: 0.5230\n",
      "Epoch 9/20\n",
      "276/276 [==============================] - 0s 476us/step - loss: 0.6212 - r_squared: 0.5249 - val_loss: 0.6586 - val_r_squared: 0.4991\n",
      "Epoch 10/20\n",
      "276/276 [==============================] - 0s 476us/step - loss: 0.6572 - r_squared: 0.4809 - val_loss: 1.1081 - val_r_squared: 0.1966\n",
      "Epoch 11/20\n",
      "276/276 [==============================] - 0s 479us/step - loss: 0.6422 - r_squared: 0.4949 - val_loss: 0.6008 - val_r_squared: 0.5369\n",
      "Epoch 12/20\n",
      "276/276 [==============================] - 0s 478us/step - loss: 0.6637 - r_squared: 0.4622 - val_loss: 0.5370 - val_r_squared: 0.5951\n",
      "Epoch 13/20\n",
      "276/276 [==============================] - 0s 478us/step - loss: 0.6731 - r_squared: 0.4757 - val_loss: 0.6126 - val_r_squared: 0.5372\n",
      "Epoch 14/20\n",
      "276/276 [==============================] - 0s 475us/step - loss: 0.7988 - r_squared: 0.3965 - val_loss: 0.5686 - val_r_squared: 0.5702\n",
      "Epoch 15/20\n",
      "276/276 [==============================] - 0s 542us/step - loss: 0.6665 - r_squared: 0.4792 - val_loss: 1.1379 - val_r_squared: 0.0844\n",
      "Epoch 16/20\n",
      "276/276 [==============================] - 0s 477us/step - loss: 0.8188 - r_squared: 0.2703 - val_loss: 0.5711 - val_r_squared: 0.5728\n",
      "Epoch 17/20\n",
      "276/276 [==============================] - 0s 490us/step - loss: 1.2465 - r_squared: 0.0308 - val_loss: 0.6748 - val_r_squared: 0.4956\n",
      "Epoch 18/20\n",
      "276/276 [==============================] - 0s 482us/step - loss: 8.2269 - r_squared: -5.9111 - val_loss: 0.4964 - val_r_squared: 0.6182\n",
      "Epoch 19/20\n",
      "276/276 [==============================] - 0s 479us/step - loss: 29.6863 - r_squared: -20.0433 - val_loss: 1.6089 - val_r_squared: -0.2672\n",
      "Epoch 20/20\n",
      "276/276 [==============================] - 0s 479us/step - loss: 8.4043 - r_squared: -3.8979 - val_loss: 0.7793 - val_r_squared: 0.4115\n",
      "138/138 [==============================] - 0s 278us/step\n",
      "Epoch 1/20\n",
      "276/276 [==============================] - 0s 894us/step - loss: 2.4526 - r_squared: -1.3358 - val_loss: 1.5907 - val_r_squared: -0.1880\n",
      "Epoch 2/20\n",
      "276/276 [==============================] - 0s 477us/step - loss: 2.7626 - r_squared: -2.7865 - val_loss: 2.2025 - val_r_squared: -0.4731\n",
      "Epoch 3/20\n",
      "276/276 [==============================] - 0s 476us/step - loss: 1.2637 - r_squared: 6.0134e-04 - val_loss: 0.4908 - val_r_squared: 0.6298\n",
      "Epoch 4/20\n",
      "276/276 [==============================] - 0s 481us/step - loss: 0.7549 - r_squared: 0.4159 - val_loss: 0.6457 - val_r_squared: 0.5210\n",
      "Epoch 5/20\n",
      "276/276 [==============================] - 0s 476us/step - loss: 0.5266 - r_squared: 0.5728 - val_loss: 0.5721 - val_r_squared: 0.5766\n",
      "Epoch 6/20\n",
      "276/276 [==============================] - 0s 478us/step - loss: 0.5596 - r_squared: 0.5492 - val_loss: 0.6194 - val_r_squared: 0.5435\n",
      "Epoch 7/20\n",
      "276/276 [==============================] - 0s 478us/step - loss: 0.5218 - r_squared: 0.5829 - val_loss: 0.5904 - val_r_squared: 0.5587\n",
      "Epoch 8/20\n",
      "276/276 [==============================] - 0s 478us/step - loss: 0.4915 - r_squared: 0.5958 - val_loss: 0.5848 - val_r_squared: 0.5705\n",
      "Epoch 9/20\n",
      "276/276 [==============================] - 0s 524us/step - loss: 0.5215 - r_squared: 0.5774 - val_loss: 0.5024 - val_r_squared: 0.6295\n",
      "Epoch 10/20\n",
      "276/276 [==============================] - 0s 481us/step - loss: 0.7566 - r_squared: 0.3761 - val_loss: 0.6140 - val_r_squared: 0.5472\n",
      "Epoch 11/20\n",
      "276/276 [==============================] - 0s 486us/step - loss: 0.5079 - r_squared: 0.5871 - val_loss: 0.5516 - val_r_squared: 0.5914\n",
      "Epoch 12/20\n",
      "276/276 [==============================] - 0s 482us/step - loss: 0.4942 - r_squared: 0.6039 - val_loss: 0.5224 - val_r_squared: 0.6148\n",
      "Epoch 13/20\n",
      "276/276 [==============================] - 0s 478us/step - loss: 0.4822 - r_squared: 0.6126 - val_loss: 0.5105 - val_r_squared: 0.6201\n",
      "Epoch 14/20\n",
      "276/276 [==============================] - 0s 479us/step - loss: 0.5077 - r_squared: 0.5867 - val_loss: 0.5334 - val_r_squared: 0.5907\n",
      "Epoch 15/20\n",
      "276/276 [==============================] - 0s 476us/step - loss: 0.5075 - r_squared: 0.5907 - val_loss: 0.5436 - val_r_squared: 0.5990\n",
      "Epoch 16/20\n",
      "276/276 [==============================] - 0s 475us/step - loss: 0.7081 - r_squared: 0.4204 - val_loss: 0.6197 - val_r_squared: 0.5387\n",
      "Epoch 17/20\n",
      "276/276 [==============================] - 0s 477us/step - loss: 0.5269 - r_squared: 0.5738 - val_loss: 0.6027 - val_r_squared: 0.5575\n",
      "Epoch 18/20\n",
      "276/276 [==============================] - 0s 479us/step - loss: 0.5564 - r_squared: 0.5548 - val_loss: 0.6766 - val_r_squared: 0.5034\n",
      "Epoch 19/20\n",
      "276/276 [==============================] - 0s 476us/step - loss: 0.5363 - r_squared: 0.5669 - val_loss: 0.5206 - val_r_squared: 0.6096\n",
      "Epoch 20/20\n",
      "276/276 [==============================] - 0s 476us/step - loss: 0.4845 - r_squared: 0.6061 - val_loss: 0.8601 - val_r_squared: 0.3642\n",
      "138/138 [==============================] - 0s 285us/step\n",
      "Epoch 1/20\n",
      "276/276 [==============================] - 0s 641us/step - loss: 3673.1880 - r_squared: -2433.3481 - val_loss: 218.7769 - val_r_squared: -157.7370\n",
      "Epoch 2/20\n",
      "276/276 [==============================] - 0s 568us/step - loss: 5286.2471 - r_squared: -4785.3071 - val_loss: 1913.4563 - val_r_squared: -1377.8563\n",
      "Epoch 3/20\n",
      "276/276 [==============================] - 0s 491us/step - loss: 2536.7378 - r_squared: -2647.1682 - val_loss: 7.0057 - val_r_squared: -4.3614\n",
      "Epoch 4/20\n",
      "276/276 [==============================] - 0s 494us/step - loss: 86.9622 - r_squared: -60.1847 - val_loss: 3.4584 - val_r_squared: -1.5565\n",
      "Epoch 5/20\n",
      "276/276 [==============================] - 0s 485us/step - loss: 10.2080 - r_squared: -9.1551 - val_loss: 2.6024 - val_r_squared: -0.9776\n",
      "Epoch 6/20\n",
      "276/276 [==============================] - 0s 481us/step - loss: 21.1651 - r_squared: -13.0905 - val_loss: 2.4130 - val_r_squared: -0.8637\n",
      "Epoch 7/20\n",
      "276/276 [==============================] - 0s 479us/step - loss: 36.4229 - r_squared: -26.1124 - val_loss: 2.3267 - val_r_squared: -0.8282\n",
      "Epoch 8/20\n",
      "276/276 [==============================] - 0s 481us/step - loss: 57.6966 - r_squared: -44.0512 - val_loss: 1.8258 - val_r_squared: -0.3987\n",
      "Epoch 9/20\n",
      "276/276 [==============================] - 0s 488us/step - loss: 89.6325 - r_squared: -98.8288 - val_loss: 2.0334 - val_r_squared: -0.5968\n",
      "Epoch 10/20\n",
      "276/276 [==============================] - 0s 481us/step - loss: 55.5002 - r_squared: -37.7434 - val_loss: 1.6588 - val_r_squared: -0.2905\n",
      "Epoch 11/20\n",
      "276/276 [==============================] - 0s 489us/step - loss: 51.0986 - r_squared: -33.2121 - val_loss: 1.6793 - val_r_squared: -0.3052\n",
      "Epoch 12/20\n",
      "276/276 [==============================] - 0s 489us/step - loss: 79.8100 - r_squared: -40.9002 - val_loss: 2.0873 - val_r_squared: -0.5907\n",
      "Epoch 13/20\n",
      "276/276 [==============================] - 0s 480us/step - loss: 113.8398 - r_squared: -59.0234 - val_loss: 1.9669 - val_r_squared: -0.4895\n",
      "Epoch 14/20\n",
      "276/276 [==============================] - 0s 486us/step - loss: 197.6835 - r_squared: -145.6290 - val_loss: 1.6517 - val_r_squared: -0.2761\n",
      "Epoch 15/20\n",
      "276/276 [==============================] - 0s 539us/step - loss: 1.7978 - r_squared: -0.4400 - val_loss: 1.4343 - val_r_squared: -0.0923\n",
      "Epoch 16/20\n",
      "276/276 [==============================] - 0s 481us/step - loss: 1.4147 - r_squared: -0.1072 - val_loss: 1.4165 - val_r_squared: -0.0847\n",
      "Epoch 17/20\n",
      "276/276 [==============================] - 0s 481us/step - loss: 1.3914 - r_squared: -0.1167 - val_loss: 1.4182 - val_r_squared: -0.0808\n",
      "Epoch 18/20\n",
      "276/276 [==============================] - 0s 484us/step - loss: 1.3582 - r_squared: -0.0570 - val_loss: 1.3936 - val_r_squared: -0.0636\n",
      "Epoch 19/20\n",
      "276/276 [==============================] - 0s 487us/step - loss: 1.3424 - r_squared: -0.0561 - val_loss: 1.3979 - val_r_squared: -0.0594\n",
      "Epoch 20/20\n",
      "276/276 [==============================] - 0s 486us/step - loss: 1.3558 - r_squared: -0.0588 - val_loss: 1.3699 - val_r_squared: -0.0407\n",
      "138/138 [==============================] - 0s 279us/step\n",
      "Epoch 1/20\n"
     ]
    }
   ],
   "source": [
    "grid.fit(X_train, y_train, epochs=20,\n",
    "              validation_data=(X_val, y_val),\n",
    "             callbacks=[keras.callbacks.EarlyStopping(patience=10)])"
   ]
  },
  {
   "cell_type": "code",
   "execution_count": null,
   "id": "6016bb8b-88f1-4715-bd7e-e744e82e59b0",
   "metadata": {},
   "outputs": [],
   "source": [
    "grid.best_params_"
   ]
  },
  {
   "cell_type": "code",
   "execution_count": null,
   "id": "7945aa5d-be57-4a1f-8633-2652f1cbbd1c",
   "metadata": {},
   "outputs": [],
   "source": [
    "grid.score(X_test, y_test)"
   ]
  },
  {
   "cell_type": "code",
   "execution_count": null,
   "id": "1fd026b6-36a5-4cca-9b46-c573c8120d54",
   "metadata": {},
   "outputs": [],
   "source": []
  }
 ],
 "metadata": {
  "kernelspec": {
   "display_name": "Python 3 (ipykernel)",
   "language": "python",
   "name": "python3"
  },
  "language_info": {
   "codemirror_mode": {
    "name": "ipython",
    "version": 3
   },
   "file_extension": ".py",
   "mimetype": "text/x-python",
   "name": "python",
   "nbconvert_exporter": "python",
   "pygments_lexer": "ipython3",
   "version": "3.9.18"
  }
 },
 "nbformat": 4,
 "nbformat_minor": 5
}
