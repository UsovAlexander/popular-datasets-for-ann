{
 "cells": [
  {
   "cell_type": "code",
   "execution_count": 1,
   "id": "08f6e883-f40d-4eb0-9e8f-38a11eabd647",
   "metadata": {},
   "outputs": [],
   "source": [
    "import pandas as pd\n",
    "import numpy as np\n",
    "import matplotlib.pyplot as plt\n",
    "import seaborn as sns\n",
    "from sklearn.datasets import fetch_california_housing\n",
    "from sklearn.preprocessing import StandardScaler\n",
    "from sklearn.model_selection import train_test_split\n",
    "from tensorflow import keras"
   ]
  },
  {
   "cell_type": "code",
   "execution_count": 2,
   "id": "c82b3b0b-9450-4a0d-9101-a098d7a654ca",
   "metadata": {},
   "outputs": [],
   "source": [
    "housing = fetch_california_housing()"
   ]
  },
  {
   "cell_type": "code",
   "execution_count": 3,
   "id": "4364c501-878c-491a-b0ef-8b052a3eab52",
   "metadata": {},
   "outputs": [],
   "source": [
    "X_train_full, X_test, y_train_full,  y_test = train_test_split(housing.data, housing.target, test_size=0.2)"
   ]
  },
  {
   "cell_type": "code",
   "execution_count": 4,
   "id": "9dd698ce-4cdd-444f-acca-f20331b02efc",
   "metadata": {},
   "outputs": [],
   "source": [
    "X_train, X_val, y_train,  y_val = train_test_split(X_train_full, y_train_full, test_size=0.2)"
   ]
  },
  {
   "cell_type": "code",
   "execution_count": 5,
   "id": "12f295d4-fb35-4115-aa81-c61136349387",
   "metadata": {},
   "outputs": [],
   "source": [
    "scaler = StandardScaler()"
   ]
  },
  {
   "cell_type": "code",
   "execution_count": 6,
   "id": "594e8393-eaf1-4e99-846f-7c094be89f14",
   "metadata": {},
   "outputs": [],
   "source": [
    "X_train = scaler.fit_transform(X_train)\n",
    "X_val = scaler.transform(X_val)\n",
    "X_test = scaler.transform(X_test)"
   ]
  },
  {
   "cell_type": "code",
   "execution_count": 7,
   "id": "fb5455a2-51f0-400d-9c73-b2b8ae3cbf5b",
   "metadata": {},
   "outputs": [],
   "source": [
    "model = keras.models.Sequential([\n",
    "    keras.layers.Dense(30, activation='relu',\n",
    "                      input_shape=X_train.shape[1:]),\n",
    "    keras.layers.Dense(1)\n",
    "])\n",
    "\n",
    "model.compile(loss='mean_squared_error', optimizer='sgd')"
   ]
  },
  {
   "cell_type": "code",
   "execution_count": 8,
   "id": "48397c11-616b-421a-8907-2ad7fa866831",
   "metadata": {
    "scrolled": true
   },
   "outputs": [
    {
     "name": "stdout",
     "output_type": "stream",
     "text": [
      "Epoch 1/20\n",
      "413/413 [==============================] - 0s 528us/step - loss: 1.2497 - val_loss: 6.2807\n",
      "Epoch 2/20\n",
      "413/413 [==============================] - 0s 468us/step - loss: 2.8126 - val_loss: 0.5393\n",
      "Epoch 3/20\n",
      "413/413 [==============================] - 0s 421us/step - loss: 0.5071 - val_loss: 0.4598\n",
      "Epoch 4/20\n",
      "413/413 [==============================] - 0s 391us/step - loss: 0.4227 - val_loss: 0.7915\n",
      "Epoch 5/20\n",
      "413/413 [==============================] - 0s 381us/step - loss: 0.4259 - val_loss: 0.4497\n",
      "Epoch 6/20\n",
      "413/413 [==============================] - 0s 388us/step - loss: 0.4270 - val_loss: 0.4284\n",
      "Epoch 7/20\n",
      "413/413 [==============================] - 0s 393us/step - loss: 0.3968 - val_loss: 0.4165\n",
      "Epoch 8/20\n",
      "413/413 [==============================] - 0s 391us/step - loss: 0.3869 - val_loss: 0.4061\n",
      "Epoch 9/20\n",
      "413/413 [==============================] - 0s 389us/step - loss: 0.3849 - val_loss: 0.4147\n",
      "Epoch 10/20\n",
      "413/413 [==============================] - 0s 388us/step - loss: 0.3797 - val_loss: 0.4041\n",
      "Epoch 11/20\n",
      "413/413 [==============================] - 0s 387us/step - loss: 0.3745 - val_loss: 0.3961\n",
      "Epoch 12/20\n",
      "413/413 [==============================] - 0s 384us/step - loss: 0.3794 - val_loss: 0.3956\n",
      "Epoch 13/20\n",
      "413/413 [==============================] - 0s 384us/step - loss: 0.3744 - val_loss: 0.3952\n",
      "Epoch 14/20\n",
      "413/413 [==============================] - 0s 385us/step - loss: 0.3754 - val_loss: 0.3957\n",
      "Epoch 15/20\n",
      "413/413 [==============================] - 0s 379us/step - loss: 0.3649 - val_loss: 0.3945\n",
      "Epoch 16/20\n",
      "413/413 [==============================] - 0s 380us/step - loss: 0.3665 - val_loss: 0.3845\n",
      "Epoch 17/20\n",
      "413/413 [==============================] - 0s 382us/step - loss: 0.3882 - val_loss: 0.3968\n",
      "Epoch 18/20\n",
      "413/413 [==============================] - 0s 386us/step - loss: 0.3719 - val_loss: 0.3803\n",
      "Epoch 19/20\n",
      "413/413 [==============================] - 0s 386us/step - loss: 0.3594 - val_loss: 0.3986\n",
      "Epoch 20/20\n",
      "413/413 [==============================] - 0s 396us/step - loss: 0.3581 - val_loss: 0.3804\n"
     ]
    }
   ],
   "source": [
    "history = model.fit(X_train, y_train, epochs=20,\n",
    "                   validation_data=(X_val, y_val))"
   ]
  },
  {
   "cell_type": "code",
   "execution_count": 9,
   "id": "7ec89a31-a365-4981-a901-e3e921d98d94",
   "metadata": {},
   "outputs": [
    {
     "data": {
      "image/png": "[encoded data removed]",
      "text/plain": [
       "<Figure size 800x500 with 1 Axes>"
      ]
     },
     "metadata": {},
     "output_type": "display_data"
    }
   ],
   "source": [
    "pd.DataFrame(history.history).plot(figsize=(8,5))\n",
    "plt.grid();"
   ]
  },
  {
   "cell_type": "code",
   "execution_count": 10,
   "id": "50d0e8f6-f592-467e-b8a9-acbf26ff4b2c",
   "metadata": {},
   "outputs": [
    {
     "name": "stdout",
     "output_type": "stream",
     "text": [
      "129/129 [==============================] - 0s 287us/step - loss: 0.3717\n"
     ]
    },
    {
     "data": {
      "text/plain": [
       "0.37166085839271545"
      ]
     },
     "execution_count": 10,
     "metadata": {},
     "output_type": "execute_result"
    }
   ],
   "source": [
    "model.evaluate(X_test, y_test)"
   ]
  },
  {
   "cell_type": "code",
   "execution_count": 11,
   "id": "31b4d271-d048-493f-883c-63d335b5ce3e",
   "metadata": {},
   "outputs": [
    {
     "name": "stdout",
     "output_type": "stream",
     "text": [
      "129/129 [==============================] - 0s 278us/step\n"
     ]
    }
   ],
   "source": [
    "y_pred = model.predict(X_test)"
   ]
  },
  {
   "cell_type": "code",
   "execution_count": 12,
   "id": "e70f38a1-c6dc-41c8-a6f3-f030b354406e",
   "metadata": {},
   "outputs": [
    {
     "data": {
      "text/plain": [
       "array([[1.7256073 ],\n",
       "       [1.5441519 ],\n",
       "       [1.1125907 ],\n",
       "       ...,\n",
       "       [0.91474617],\n",
       "       [1.0197502 ],\n",
       "       [1.3141868 ]], dtype=float32)"
      ]
     },
     "execution_count": 12,
     "metadata": {},
     "output_type": "execute_result"
    }
   ],
   "source": [
    "y_pred"
   ]
  },
  {
   "cell_type": "code",
   "execution_count": null,
   "id": "80e7b7db-a88b-4549-9a81-e75bdeb8d950",
   "metadata": {},
   "outputs": [],
   "source": []
  }
 ],
 "metadata": {
  "kernelspec": {
   "display_name": "Python 3 (ipykernel)",
   "language": "python",
   "name": "python3"
  },
  "language_info": {
   "codemirror_mode": {
    "name": "ipython",
    "version": 3
   },
   "file_extension": ".py",
   "mimetype": "text/x-python",
   "name": "python",
   "nbconvert_exporter": "python",
   "pygments_lexer": "ipython3",
   "version": "3.9.18"
  }
 },
 "nbformat": 4,
 "nbformat_minor": 5
}
