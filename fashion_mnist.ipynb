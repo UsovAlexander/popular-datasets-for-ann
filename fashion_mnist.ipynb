{
 "cells": [
  {
   "cell_type": "code",
   "execution_count": 55,
   "id": "74f7f888-6573-40b7-b567-66f06b40d8b2",
   "metadata": {},
   "outputs": [],
   "source": [
    "import tensorflow as tf\n",
    "from tensorflow import keras\n",
    "import pandas as pd\n",
    "import numpy as np\n",
    "import matplotlib.pyplot as plt"
   ]
  },
  {
   "cell_type": "code",
   "execution_count": 2,
   "id": "e9f98580-7062-4e40-bd4f-0be4d25d06cf",
   "metadata": {},
   "outputs": [],
   "source": [
    "fashion_mnist = keras.datasets.fashion_mnist"
   ]
  },
  {
   "cell_type": "code",
   "execution_count": 3,
   "id": "4f14e0c9-45c6-4573-9291-5ca3162a0972",
   "metadata": {},
   "outputs": [],
   "source": [
    "(X_train_full, y_train_full), (X_test, y_test) = fashion_mnist.load_data()"
   ]
  },
  {
   "cell_type": "code",
   "execution_count": 40,
   "id": "9a385440-f7b8-4a6f-96f3-719a259c68af",
   "metadata": {},
   "outputs": [
    {
     "data": {
      "text/plain": [
       "((60000, 28, 28), (10000, 28, 28))"
      ]
     },
     "execution_count": 40,
     "metadata": {},
     "output_type": "execute_result"
    }
   ],
   "source": [
    "X_train_full.shape, X_test.shape"
   ]
  },
  {
   "cell_type": "code",
   "execution_count": 41,
   "id": "22cd5d19-2550-421d-bb8d-c032b97f3725",
   "metadata": {},
   "outputs": [],
   "source": [
    "X_train_full = X_train_full.reshape(X_train_full.shape[0],\n",
    "                                   X_train_full.shape[1] * X_train_full.shape[2])"
   ]
  },
  {
   "cell_type": "code",
   "execution_count": 43,
   "id": "38438337-52ba-4456-9d32-7495363c59d7",
   "metadata": {},
   "outputs": [],
   "source": [
    "X_test = X_test.reshape(X_test.shape[0],\n",
    "                        X_test.shape[1] * X_test.shape[2])"
   ]
  },
  {
   "cell_type": "code",
   "execution_count": 44,
   "id": "0ba069b9-2d97-49fe-8346-e6564ec93c52",
   "metadata": {},
   "outputs": [
    {
     "data": {
      "text/plain": [
       "((60000, 784), (10000, 784))"
      ]
     },
     "execution_count": 44,
     "metadata": {},
     "output_type": "execute_result"
    }
   ],
   "source": [
    "X_train_full.shape, X_test.shape"
   ]
  },
  {
   "cell_type": "code",
   "execution_count": 45,
   "id": "dacc6969-6640-4dd0-b885-911ecc78e0e2",
   "metadata": {},
   "outputs": [],
   "source": [
    "X_valid, X_train = X_train_full[:5000]/255, X_train_full[5000:]/255"
   ]
  },
  {
   "cell_type": "code",
   "execution_count": 46,
   "id": "d0086303-6e40-4d2a-b6b7-fe616593f9cb",
   "metadata": {},
   "outputs": [
    {
     "data": {
      "text/plain": [
       "((5000, 784), (55000, 784))"
      ]
     },
     "execution_count": 46,
     "metadata": {},
     "output_type": "execute_result"
    }
   ],
   "source": [
    "X_valid.shape, X_train.shape"
   ]
  },
  {
   "cell_type": "code",
   "execution_count": 47,
   "id": "864b232e-853d-4c23-ae2b-6533b729ea6b",
   "metadata": {},
   "outputs": [],
   "source": [
    "y_valid, y_train = y_train_full[:5000], y_train_full[5000:]"
   ]
  },
  {
   "cell_type": "code",
   "execution_count": 48,
   "id": "4521dd3d-7c3c-418a-bcb3-48ad72ca52e1",
   "metadata": {},
   "outputs": [],
   "source": [
    "model = keras.models.Sequential()\n",
    "model.add(keras.layers.Dense(300, input_dim= 28*28, \n",
    "                             activation='relu'))\n",
    "model.add(keras.layers.Dense(100, activation='relu'))\n",
    "model.add(keras.layers.Dense(10, activation='softmax'))"
   ]
  },
  {
   "cell_type": "code",
   "execution_count": 50,
   "id": "532d4165-126e-4a47-b921-c7018a6c99c0",
   "metadata": {},
   "outputs": [],
   "source": [
    "model.compile(loss='sparse_categorical_crossentropy',\n",
    "             optimizer='sgd',\n",
    "             metrics=['acc'])"
   ]
  },
  {
   "cell_type": "code",
   "execution_count": 51,
   "id": "294ebd27-af36-47ff-b8fb-34958600183a",
   "metadata": {},
   "outputs": [],
   "source": [
    "model.build(input_shape=[28, 28])"
   ]
  },
  {
   "cell_type": "code",
   "execution_count": 52,
   "id": "26ca44fe-1aa4-4b36-93e9-8e21bcc30eb2",
   "metadata": {},
   "outputs": [
    {
     "data": {
      "image/png": "[encoded data removed]",
      "text/plain": [
       "<IPython.core.display.Image object>"
      ]
     },
     "execution_count": 52,
     "metadata": {},
     "output_type": "execute_result"
    }
   ],
   "source": [
    "tf.keras.utils.plot_model(\n",
    "    model,\n",
    "    to_file=\"model.png\",\n",
    "    show_shapes=False,\n",
    "    show_dtype=False,\n",
    "    show_layer_names=True,\n",
    "    rankdir=\"TB\",\n",
    "    expand_nested=False,\n",
    "    dpi=96,\n",
    "    layer_range=None,\n",
    "    show_layer_activations=False,\n",
    "    show_trainable=False,\n",
    ")"
   ]
  },
  {
   "cell_type": "code",
   "execution_count": 53,
   "id": "cf62a468-440c-4849-9950-67c60f4c7834",
   "metadata": {},
   "outputs": [
    {
     "name": "stdout",
     "output_type": "stream",
     "text": [
      "Model: \"sequential_7\"\n",
      "_________________________________________________________________\n",
      " Layer (type)                Output Shape              Param #   \n",
      "=================================================================\n",
      " dense_12 (Dense)            (None, 300)               235500    \n",
      "                                                                 \n",
      " dense_13 (Dense)            (None, 100)               30100     \n",
      "                                                                 \n",
      " dense_14 (Dense)            (None, 10)                1010      \n",
      "                                                                 \n",
      "=================================================================\n",
      "Total params: 266610 (1.02 MB)\n",
      "Trainable params: 266610 (1.02 MB)\n",
      "Non-trainable params: 0 (0.00 Byte)\n",
      "_________________________________________________________________\n"
     ]
    }
   ],
   "source": [
    "model.summary()"
   ]
  },
  {
   "cell_type": "code",
   "execution_count": 54,
   "id": "3e59fb1c-0d66-46f1-a3f6-cfdbf3c63e72",
   "metadata": {
    "scrolled": true
   },
   "outputs": [
    {
     "name": "stdout",
     "output_type": "stream",
     "text": [
      "Epoch 1/30\n",
      "1719/1719 [==============================] - 2s 851us/step - loss: 0.7063 - acc: 0.7662 - val_loss: 0.5061 - val_acc: 0.8320\n",
      "Epoch 2/30\n",
      "1719/1719 [==============================] - 1s 798us/step - loss: 0.4858 - acc: 0.8305 - val_loss: 0.4509 - val_acc: 0.8466\n",
      "Epoch 3/30\n",
      "1719/1719 [==============================] - 1s 789us/step - loss: 0.4418 - acc: 0.8454 - val_loss: 0.4310 - val_acc: 0.8472\n",
      "Epoch 4/30\n",
      "1719/1719 [==============================] - 1s 788us/step - loss: 0.4151 - acc: 0.8542 - val_loss: 0.3969 - val_acc: 0.8614\n",
      "Epoch 5/30\n",
      "1719/1719 [==============================] - 1s 800us/step - loss: 0.3945 - acc: 0.8607 - val_loss: 0.4097 - val_acc: 0.8602\n",
      "Epoch 6/30\n",
      "1719/1719 [==============================] - 1s 790us/step - loss: 0.3787 - acc: 0.8667 - val_loss: 0.3988 - val_acc: 0.8536\n",
      "Epoch 7/30\n",
      "1719/1719 [==============================] - 1s 791us/step - loss: 0.3641 - acc: 0.8717 - val_loss: 0.3610 - val_acc: 0.8722\n",
      "Epoch 8/30\n",
      "1719/1719 [==============================] - 1s 796us/step - loss: 0.3536 - acc: 0.8742 - val_loss: 0.3513 - val_acc: 0.8756\n",
      "Epoch 9/30\n",
      "1719/1719 [==============================] - 1s 787us/step - loss: 0.3428 - acc: 0.8783 - val_loss: 0.3570 - val_acc: 0.8756\n",
      "Epoch 10/30\n",
      "1719/1719 [==============================] - 1s 791us/step - loss: 0.3339 - acc: 0.8808 - val_loss: 0.3616 - val_acc: 0.8704\n",
      "Epoch 11/30\n",
      "1719/1719 [==============================] - 1s 800us/step - loss: 0.3254 - acc: 0.8844 - val_loss: 0.3375 - val_acc: 0.8774\n",
      "Epoch 12/30\n",
      "1719/1719 [==============================] - 1s 791us/step - loss: 0.3176 - acc: 0.8864 - val_loss: 0.3346 - val_acc: 0.8810\n",
      "Epoch 13/30\n",
      "1719/1719 [==============================] - 1s 818us/step - loss: 0.3100 - acc: 0.8897 - val_loss: 0.3464 - val_acc: 0.8746\n",
      "Epoch 14/30\n",
      "1719/1719 [==============================] - 1s 808us/step - loss: 0.3031 - acc: 0.8910 - val_loss: 0.3667 - val_acc: 0.8706\n",
      "Epoch 15/30\n",
      "1719/1719 [==============================] - 1s 826us/step - loss: 0.2980 - acc: 0.8930 - val_loss: 0.3204 - val_acc: 0.8856\n",
      "Epoch 16/30\n",
      "1719/1719 [==============================] - 1s 793us/step - loss: 0.2915 - acc: 0.8952 - val_loss: 0.3273 - val_acc: 0.8810\n",
      "Epoch 17/30\n",
      "1719/1719 [==============================] - 1s 802us/step - loss: 0.2859 - acc: 0.8970 - val_loss: 0.3328 - val_acc: 0.8788\n",
      "Epoch 18/30\n",
      "1719/1719 [==============================] - 1s 794us/step - loss: 0.2801 - acc: 0.8995 - val_loss: 0.3293 - val_acc: 0.8852\n",
      "Epoch 19/30\n",
      "1719/1719 [==============================] - 1s 804us/step - loss: 0.2749 - acc: 0.9017 - val_loss: 0.3279 - val_acc: 0.8838\n",
      "Epoch 20/30\n",
      "1719/1719 [==============================] - 1s 815us/step - loss: 0.2695 - acc: 0.9035 - val_loss: 0.3335 - val_acc: 0.8834\n",
      "Epoch 21/30\n",
      "1719/1719 [==============================] - 1s 792us/step - loss: 0.2641 - acc: 0.9051 - val_loss: 0.3148 - val_acc: 0.8852\n",
      "Epoch 22/30\n",
      "1719/1719 [==============================] - 1s 811us/step - loss: 0.2592 - acc: 0.9059 - val_loss: 0.3171 - val_acc: 0.8880\n",
      "Epoch 23/30\n",
      "1719/1719 [==============================] - 1s 806us/step - loss: 0.2555 - acc: 0.9085 - val_loss: 0.3197 - val_acc: 0.8842\n",
      "Epoch 24/30\n",
      "1719/1719 [==============================] - 1s 791us/step - loss: 0.2501 - acc: 0.9100 - val_loss: 0.3241 - val_acc: 0.8812\n",
      "Epoch 25/30\n",
      "1719/1719 [==============================] - 1s 789us/step - loss: 0.2459 - acc: 0.9109 - val_loss: 0.3148 - val_acc: 0.8836\n",
      "Epoch 26/30\n",
      "1719/1719 [==============================] - 1s 810us/step - loss: 0.2426 - acc: 0.9123 - val_loss: 0.3240 - val_acc: 0.8816\n",
      "Epoch 27/30\n",
      "1719/1719 [==============================] - 1s 804us/step - loss: 0.2379 - acc: 0.9140 - val_loss: 0.3207 - val_acc: 0.8806\n",
      "Epoch 28/30\n",
      "1719/1719 [==============================] - 1s 801us/step - loss: 0.2340 - acc: 0.9172 - val_loss: 0.3229 - val_acc: 0.8844\n",
      "Epoch 29/30\n",
      "1719/1719 [==============================] - 1s 824us/step - loss: 0.2304 - acc: 0.9172 - val_loss: 0.3021 - val_acc: 0.8886\n",
      "Epoch 30/30\n",
      "1719/1719 [==============================] - 1s 806us/step - loss: 0.2270 - acc: 0.9185 - val_loss: 0.3121 - val_acc: 0.8840\n"
     ]
    }
   ],
   "source": [
    "history = model.fit(X_train, y_train, epochs=30,\n",
    "                   validation_data=(X_valid, y_valid))"
   ]
  },
  {
   "cell_type": "code",
   "execution_count": 57,
   "id": "30e3ee17-380d-4545-8fde-63d02fa4adab",
   "metadata": {},
   "outputs": [
    {
     "data": {
      "image/png": "[encoded data removed]",
      "text/plain": [
       "<Figure size 800x500 with 1 Axes>"
      ]
     },
     "metadata": {},
     "output_type": "display_data"
    }
   ],
   "source": [
    "pd.DataFrame(history.history).plot(figsize=(8,5))\n",
    "plt.grid()\n",
    "plt.gca().set_ylim();"
   ]
  },
  {
   "cell_type": "code",
   "execution_count": 58,
   "id": "20128bf1-a52a-4b0c-9969-7b705ac1d373",
   "metadata": {},
   "outputs": [
    {
     "name": "stdout",
     "output_type": "stream",
     "text": [
      "313/313 [==============================] - 0s 504us/step - loss: 61.8474 - acc: 0.8544\n"
     ]
    },
    {
     "data": {
      "text/plain": [
       "[61.8474006652832, 0.8543999791145325]"
      ]
     },
     "execution_count": 58,
     "metadata": {},
     "output_type": "execute_result"
    }
   ],
   "source": [
    "model.evaluate(X_test, y_test)"
   ]
  },
  {
   "cell_type": "code",
   "execution_count": 59,
   "id": "53ee518b-4b9d-4676-b18e-e726912048f6",
   "metadata": {},
   "outputs": [
    {
     "name": "stdout",
     "output_type": "stream",
     "text": [
      "1/1 [==============================] - 0s 51ms/step\n"
     ]
    },
    {
     "data": {
      "text/plain": [
       "array([[0., 0., 0., 0., 0., 0., 0., 0., 0., 1.],\n",
       "       [0., 0., 1., 0., 0., 0., 0., 0., 0., 0.],\n",
       "       [0., 1., 0., 0., 0., 0., 0., 0., 0., 0.]], dtype=float32)"
      ]
     },
     "execution_count": 59,
     "metadata": {},
     "output_type": "execute_result"
    }
   ],
   "source": [
    "model.predict(X_test[:3])"
   ]
  },
  {
   "cell_type": "code",
   "execution_count": 62,
   "id": "c6d9d794-84db-4d0f-85e3-afa5dc44ba4f",
   "metadata": {},
   "outputs": [
    {
     "name": "stdout",
     "output_type": "stream",
     "text": [
      "313/313 [==============================] - 0s 489us/step\n"
     ]
    }
   ],
   "source": [
    "predict_x=model.predict(X_test) \n",
    "classes_x=np.argmax(predict_x,axis=1)"
   ]
  },
  {
   "cell_type": "code",
   "execution_count": 63,
   "id": "a24f3936-3f9d-4b6f-ae32-64fce6581779",
   "metadata": {},
   "outputs": [
    {
     "data": {
      "text/plain": [
       "array([9, 2, 1, ..., 8, 1, 5])"
      ]
     },
     "execution_count": 63,
     "metadata": {},
     "output_type": "execute_result"
    }
   ],
   "source": [
    "classes_x"
   ]
  },
  {
   "cell_type": "code",
   "execution_count": null,
   "id": "b4ca542c-8a31-4be3-b1b6-62afff47472e",
   "metadata": {},
   "outputs": [],
   "source": []
  }
 ],
 "metadata": {
  "kernelspec": {
   "display_name": "Python 3 (ipykernel)",
   "language": "python",
   "name": "python3"
  },
  "language_info": {
   "codemirror_mode": {
    "name": "ipython",
    "version": 3
   },
   "file_extension": ".py",
   "mimetype": "text/x-python",
   "name": "python",
   "nbconvert_exporter": "python",
   "pygments_lexer": "ipython3",
   "version": "3.9.18"
  }
 },
 "nbformat": 4,
 "nbformat_minor": 5
}
